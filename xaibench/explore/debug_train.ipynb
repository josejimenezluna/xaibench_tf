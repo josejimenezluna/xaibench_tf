{
 "metadata": {
  "language_info": {
   "codemirror_mode": {
    "name": "ipython",
    "version": 3
   },
   "file_extension": ".py",
   "mimetype": "text/x-python",
   "name": "python",
   "nbconvert_exporter": "python",
   "pygments_lexer": "ipython3",
   "version": "3.7.10"
  },
  "orig_nbformat": 2,
  "kernelspec": {
   "name": "python3710jvsc74a57bd00a54878ae54eb7b15455285fa4ed1f35c81237d60e683e02dbde7b2f8b800d16",
   "display_name": "Python 3.7.10 64-bit ('xaibench_tf': conda)"
  },
  "metadata": {
   "interpreter": {
    "hash": "0a54878ae54eb7b15455285fa4ed1f35c81237d60e683e02dbde7b2f8b800d16"
   }
  }
 },
 "nbformat": 4,
 "nbformat_minor": 2,
 "cells": [
  {
   "cell_type": "code",
   "execution_count": 27,
   "metadata": {},
   "outputs": [],
   "source": [
    "import sys\n",
    "sys.path.append(\"/home/hawk31/graph-attribution/\")\n",
    "sys.path.append(\"/home/hawk31/xaibench_tf/\")"
   ]
  },
  {
   "cell_type": "code",
   "execution_count": 28,
   "metadata": {},
   "outputs": [],
   "source": [
    "import numpy as np\n",
    "import matplotlib.pyplot as plt"
   ]
  },
  {
   "cell_type": "code",
   "execution_count": 29,
   "metadata": {},
   "outputs": [],
   "source": [
    "import os\n",
    "from xaibench.utils import FIG_PATH\n",
    "\n",
    "y_hats = np.load(os.path.join(FIG_PATH, \"y_hats.npy\"))\n",
    "y = np.load(os.path.join(FIG_PATH, \"y.npy\"))"
   ]
  },
  {
   "cell_type": "code",
   "execution_count": 30,
   "metadata": {},
   "outputs": [
    {
     "output_type": "stream",
     "name": "stderr",
     "text": [
      "100%|██████████| 500/500 [02:04<00:00,  4.03it/s]\n"
     ]
    }
   ],
   "source": [
    "import subprocess\n",
    "from tqdm import tqdm\n",
    "os.makedirs(os.path.join(FIG_PATH, \"movie\"), exist_ok=True)\n",
    "\n",
    "rmse_fun = lambda x, y: np.sqrt(np.mean((x - y)**2))\n",
    "\n",
    "def generate_video(y_hats, y):\n",
    "    for idx in tqdm(range(len(y_hats))):\n",
    "        plt.scatter(y, y_hats[idx])\n",
    "        corr = np.corrcoef(y, y_hats[idx])[0, 1]\n",
    "        rmse = rmse_fun(y, y_hats[idx])\n",
    "        plt.ylim(1, 10)\n",
    "        plt.xlim(1, 10)\n",
    "        plt.text(8, 8, \"RMSE: {:.3f}\".format(rmse))\n",
    "        plt.text(8, 7, \"PCC: {:.3f}\".format(corr))\n",
    "        plt.xlabel(\"Experimental pK\")\n",
    "        plt.ylabel(\"Predicted pK\")\n",
    "        plt.grid()\n",
    "        plt.savefig(os.path.join(FIG_PATH, \"movie\", \"frame{0:03d}.png\".format(idx)), dpi=300)\n",
    "        plt.close()\n",
    "\n",
    "generate_video(y_hats, y)"
   ]
  },
  {
   "cell_type": "code",
   "execution_count": null,
   "metadata": {},
   "outputs": [],
   "source": [
    "os.chdir(os.path.join(FIG_PATH, \"movie\"))\n",
    "subprocess.call([\n",
    "    'ffmpeg', '-framerate', '1', '-i', 'frame%03d.png', '-r', '30',\n",
    "    'out.mp4'\n",
    "])"
   ]
  }
 ]
}