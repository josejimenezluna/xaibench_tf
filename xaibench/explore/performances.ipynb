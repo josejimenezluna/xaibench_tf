{
 "metadata": {
  "language_info": {
   "codemirror_mode": {
    "name": "ipython",
    "version": 3
   },
   "file_extension": ".py",
   "mimetype": "text/x-python",
   "name": "python",
   "nbconvert_exporter": "python",
   "pygments_lexer": "ipython3",
   "version": "3.7.10"
  },
  "orig_nbformat": 2,
  "kernelspec": {
   "name": "python3710jvsc74a57bd00a54878ae54eb7b15455285fa4ed1f35c81237d60e683e02dbde7b2f8b800d16",
   "display_name": "Python 3.7.10 64-bit ('xaibench_tf': conda)"
  },
  "metadata": {
   "interpreter": {
    "hash": "0a54878ae54eb7b15455285fa4ed1f35c81237d60e683e02dbde7b2f8b800d16"
   }
  }
 },
 "nbformat": 4,
 "nbformat_minor": 2,
 "cells": [
  {
   "cell_type": "code",
   "execution_count": 1,
   "metadata": {},
   "outputs": [],
   "source": [
    "import sys\n",
    "sys.path.append(\"/home/hawk31/graph-attribution/\")\n",
    "sys.path.append(\"/home/hawk31/xaibench_tf/\")"
   ]
  },
  {
   "cell_type": "code",
   "execution_count": 2,
   "metadata": {},
   "outputs": [],
   "source": [
    "import os\n",
    "import matplotlib.pyplot as plt\n",
    "import numpy as np\n",
    "import dill"
   ]
  },
  {
   "cell_type": "code",
   "execution_count": 3,
   "metadata": {},
   "outputs": [
    {
     "output_type": "stream",
     "name": "stderr",
     "text": [
      "100%|██████████| 997/997 [00:00<00:00, 3627.69it/s]\n",
      "100%|██████████| 996/996 [00:00<00:00, 3831.91it/s]\n",
      "100%|██████████| 997/997 [00:00<00:00, 3630.79it/s]\n"
     ]
    }
   ],
   "source": [
    "from xaibench.utils import LOG_PATH, BLOCK_TYPES\n",
    "from glob import glob\n",
    "from tqdm import tqdm\n",
    "\n",
    "rmses = {}\n",
    "rs = {}\n",
    "\n",
    "\n",
    "for bt in BLOCK_TYPES:\n",
    "    logs = glob(os.path.join(LOG_PATH, f\"{bt}_*.pt\"))\n",
    "    for log in tqdm(logs):\n",
    "        with open(log, \"rb\") as handle:\n",
    "            perf = dill.load(handle)\n",
    "        \n",
    "        rmses.setdefault(bt, []).append(perf[\"mse_train\"][-1])\n",
    "        rs.setdefault(bt, []).append(perf[\"rs_train\"][-1])"
   ]
  },
  {
   "cell_type": "code",
   "execution_count": 11,
   "metadata": {},
   "outputs": [],
   "source": [
    "logs_rf = glob(os.path.join(LOG_PATH, \"*rf*\"))\n",
    "\n",
    "rmses[\"rf\"] = []\n",
    "rs[\"rf\"] = []\n",
    "\n",
    "for log in logs_rf:\n",
    "    with open(log, \"rb\") as handle:\n",
    "        rmse, r = dill.load(handle)\n",
    "        \n",
    "        rmses[\"rf\"].append(rmse)\n",
    "        rs[\"rf\"].append(r)"
   ]
  },
  {
   "cell_type": "code",
   "execution_count": 14,
   "metadata": {},
   "outputs": [
    {
     "output_type": "stream",
     "name": "stdout",
     "text": [
      "997\n"
     ]
    }
   ],
   "source": [
    "pytorch_logs = glob(\"/home/hawk31/xaibench/logs/*_metrics.pt\")\n",
    "print(len(pytorch_logs))"
   ]
  },
  {
   "cell_type": "code",
   "execution_count": 15,
   "metadata": {},
   "outputs": [],
   "source": [
    "rmses[\"mpnn_pytorch\"] = []\n",
    "rs[\"mpnn_pytorch\"] = []\n",
    "\n",
    "for log in pytorch_logs:\n",
    "    with open(log, \"rb\") as handle:\n",
    "        res = dill.load(handle)\n",
    "        rmses[\"mpnn_pytorch\"].append(res[0][0])\n",
    "        rs[\"mpnn_pytorch\"].append(res[1][0])"
   ]
  },
  {
   "cell_type": "code",
   "execution_count": 27,
   "metadata": {},
   "outputs": [],
   "source": [
    "from xaibench.utils import FIG_PATH\n",
    "\n",
    "f, axs = plt.subplots(nrows=1, ncols=5, figsize=(15, 4))\n",
    "for idx, bt in enumerate(BLOCK_TYPES + [\"rf\", \"mpnn_pytorch\"]):\n",
    "    axs[idx].hist(rmses[bt], bins=30)\n",
    "    axs[idx].set_title(bt)\n",
    "\n",
    "f.text(0.5, 0.04, \"RMSE (train data)\")\n",
    "plt.savefig(os.path.join(FIG_PATH, \"rmse_methods.png\"))\n",
    "plt.close()"
   ]
  },
  {
   "cell_type": "code",
   "execution_count": 28,
   "metadata": {},
   "outputs": [],
   "source": [
    "f, axs = plt.subplots(nrows=1, ncols=5, figsize=(15, 4))\n",
    "for idx, bt in enumerate(BLOCK_TYPES + [\"rf\", \"mpnn_pytorch\"]):\n",
    "    axs[idx].hist(rs[bt], bins=30, color=\"orange\")\n",
    "    axs[idx].set_title(bt)\n",
    "\n",
    "f.text(0.5, 0.04, \"PCC (train data)\")\n",
    "plt.savefig(os.path.join(FIG_PATH, \"rs_methods.png\"))\n",
    "plt.close()"
   ]
  },
  {
   "cell_type": "code",
   "execution_count": null,
   "metadata": {},
   "outputs": [],
   "source": []
  }
 ]
}