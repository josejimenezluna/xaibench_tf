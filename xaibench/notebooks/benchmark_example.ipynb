{
 "cells": [
  {
   "cell_type": "markdown",
   "source": [
    "## Benchmarking guide\n",
    "\n",
    "In this practical tutorial, we showcase how the benchmark database is structured. Furthermore, we exemplify how interested users can evaluate their own custom molecular feature attribution techniques. Before we begin, please make sure that you have followed the installation instructions in the `README.md` file of the repository, particularly those that involve environment setup and database download."
   ],
   "metadata": {}
  },
  {
   "cell_type": "code",
   "execution_count": 1,
   "source": [
    "# If you had not explicitly added the graph-attribution repository to your PYTHONPATH, you should do so now.\n",
    "# Same goes for the root folder of this repository.\n",
    "\n",
    "import os\n",
    "import sys\n",
    "\n",
    "os.chdir(\"../../\")\n",
    "\n",
    "from xaibench.utils import ROOT_PATH\n",
    "\n",
    "sys.path.append(os.path.join(os.path.dirname(ROOT_PATH), \"graph-attribution\"))"
   ],
   "outputs": [],
   "metadata": {}
  },
  {
   "cell_type": "markdown",
   "source": [
    "All related benchmark data (`data.tar.gz`) should be downloaded and extrated in the root folder of the repository. Data can be then accessed by importing the `BENCHMARK_PATH` variable from the `utils` module. "
   ],
   "metadata": {}
  },
  {
   "cell_type": "code",
   "execution_count": 2,
   "source": [
    "from xaibench.utils import BENCHMARK_PATH\n",
    "\n",
    "all_series = os.listdir(BENCHMARK_PATH)\n"
   ],
   "outputs": [],
   "metadata": {}
  },
  {
   "cell_type": "markdown",
   "source": [
    "For simplicity, we will focus the data related to a single congeneric series considered in the benchmark."
   ],
   "metadata": {}
  },
  {
   "cell_type": "code",
   "execution_count": 3,
   "source": [
    "idx = 42\n",
    "series_id = all_series[idx]\n",
    "print(series_id)\n"
   ],
   "outputs": [
    {
     "output_type": "stream",
     "name": "stdout",
     "text": [
      "1NAV-IH5\n"
     ]
    }
   ],
   "metadata": {}
  },
  {
   "cell_type": "markdown",
   "source": [
    "We explore the contents of this subfolder to find all its related data. Most of it corresponds to the assigned colors of the different feature attribution methods considered in this study. For method development, we mostly care about 3 files:\n",
    "\n",
    "* `pairs.csv`, which contains all benchmark pairs for this specific series.\n",
    "* `colors.pt`, where the assigned ground truth color determined for each pair in `pairs.csv` is stored.\n",
    "* `training.csv` contains all training data extracted for this series, possibly containing some of the compounds in `pairs.csv`. A version excluding the latter can be found in `training_wo_pairs.csv`."
   ],
   "metadata": {}
  },
  {
   "cell_type": "code",
   "execution_count": 4,
   "source": [
    "series_path = os.path.join(BENCHMARK_PATH, series_id)\n",
    "os.listdir(series_path)"
   ],
   "outputs": [
    {
     "output_type": "execute_result",
     "data": {
      "text/plain": [
       "['training.csv',\n",
       " 'colors_dnn.pt',\n",
       " 'colors_dnn_wo_pairs.pt',\n",
       " 'colors_mpnn.pt',\n",
       " 'colors_gcn.pt',\n",
       " 'colors_rf.pt',\n",
       " 'colors_mpnn_wo_pairs.pt',\n",
       " 'colors_gat.pt',\n",
       " 'colors_graphnet.pt',\n",
       " 'assay_ids.npy',\n",
       " 'colors_gat_wo_pairs.pt',\n",
       " 'bench.csv',\n",
       " 'similarity_wo_pairs.npy',\n",
       " 'colors_graphnet_wo_pairs.pt',\n",
       " '1NAV-IH5.tsv',\n",
       " 'colors_rf_wo_pairs.pt',\n",
       " 'colors_gcn_wo_pairs.pt',\n",
       " 'colors.pt',\n",
       " 'similarity.npy',\n",
       " 'pairs.csv',\n",
       " 'training_wo_pairs.csv']"
      ]
     },
     "metadata": {},
     "execution_count": 4
    }
   ],
   "metadata": {}
  },
  {
   "cell_type": "markdown",
   "source": [
    "We here show the contents of the `pairs.csv` file, with each pair of compounds as well as their log10 activity difference per row.  "
   ],
   "metadata": {}
  },
  {
   "cell_type": "code",
   "execution_count": 5,
   "source": [
    "import pandas as pd\n",
    "\n",
    "pairs_df = pd.read_csv(os.path.join(series_path, \"pairs.csv\"))\n",
    "pairs_df\n"
   ],
   "outputs": [
    {
     "output_type": "execute_result",
     "data": {
      "text/html": [
       "<div>\n",
       "<style scoped>\n",
       "    .dataframe tbody tr th:only-of-type {\n",
       "        vertical-align: middle;\n",
       "    }\n",
       "\n",
       "    .dataframe tbody tr th {\n",
       "        vertical-align: top;\n",
       "    }\n",
       "\n",
       "    .dataframe thead th {\n",
       "        text-align: right;\n",
       "    }\n",
       "</style>\n",
       "<table border=\"1\" class=\"dataframe\">\n",
       "  <thead>\n",
       "    <tr style=\"text-align: right;\">\n",
       "      <th></th>\n",
       "      <th>smiles_i</th>\n",
       "      <th>smiles_j</th>\n",
       "      <th>diff</th>\n",
       "    </tr>\n",
       "  </thead>\n",
       "  <tbody>\n",
       "    <tr>\n",
       "      <th>0</th>\n",
       "      <td>O=C(O)Cc1cc(Cl)c(Oc2ccc(O)cc2)c(Cl)c1</td>\n",
       "      <td>O=C(O)Cc1cc(Cl)c(Oc2ccc(O)c(Br)c2)c(Cl)c1</td>\n",
       "      <td>-1.519479</td>\n",
       "    </tr>\n",
       "    <tr>\n",
       "      <th>1</th>\n",
       "      <td>O=C(O)Cc1cc(Cl)c(Oc2ccc(O)cc2)c(Cl)c1</td>\n",
       "      <td>CC(C)c1cc(Oc2c(Cl)cc(C(=O)O)cc2Cl)ccc1O</td>\n",
       "      <td>-1.442962</td>\n",
       "    </tr>\n",
       "    <tr>\n",
       "      <th>2</th>\n",
       "      <td>O=C(O)Cc1cc(Cl)c(Oc2ccc(O)cc2)c(Cl)c1</td>\n",
       "      <td>CC(C)c1cc(Oc2c(Br)cc(CC(=O)O)cc2Br)ccc1O</td>\n",
       "      <td>-3.366574</td>\n",
       "    </tr>\n",
       "    <tr>\n",
       "      <th>3</th>\n",
       "      <td>O=C(O)Cc1cc(Cl)c(Oc2ccc(O)cc2)c(Cl)c1</td>\n",
       "      <td>CC(C)c1cc(Oc2c(Cl)cc(CC(=O)O)cc2Cl)ccc1O</td>\n",
       "      <td>-2.158965</td>\n",
       "    </tr>\n",
       "    <tr>\n",
       "      <th>4</th>\n",
       "      <td>O=C(O)Cc1cc(Cl)c(Oc2ccc(O)cc2)c(Cl)c1</td>\n",
       "      <td>O=C(O)Cc1cc(Cl)c(Oc2ccc(O)c(-c3cncnc3)c2)c(Cl)c1</td>\n",
       "      <td>-1.126911</td>\n",
       "    </tr>\n",
       "    <tr>\n",
       "      <th>...</th>\n",
       "      <td>...</td>\n",
       "      <td>...</td>\n",
       "      <td>...</td>\n",
       "    </tr>\n",
       "    <tr>\n",
       "      <th>122</th>\n",
       "      <td>O=C(O)Cc1cc(Cl)c(Oc2ccc(O)c(-c3ccc(C(F)(F)F)cc...</td>\n",
       "      <td>O=C(O)Cc1cc(Cl)c(Oc2ccc(O)c(-c3cccc(OC(F)F)c3)...</td>\n",
       "      <td>-1.231800</td>\n",
       "    </tr>\n",
       "    <tr>\n",
       "      <th>123</th>\n",
       "      <td>O=C(O)Cc1cc(Cl)c(Oc2ccc(O)c(-c3ccc(C(F)(F)F)cc...</td>\n",
       "      <td>CCc1cccc(-c2cc(Oc3c(Cl)cc(CC(=O)O)cc3Cl)ccc2O)c1</td>\n",
       "      <td>-1.597864</td>\n",
       "    </tr>\n",
       "    <tr>\n",
       "      <th>124</th>\n",
       "      <td>O=C(O)Cc1cc(Cl)c(Oc2ccc(O)c(-c3cccc(OC(F)F)c3)...</td>\n",
       "      <td>O=C(O)Cc1cc(Cl)c(Oc2ccc(O)c(-c3cccc(-c4ccccc4)...</td>\n",
       "      <td>1.179995</td>\n",
       "    </tr>\n",
       "    <tr>\n",
       "      <th>125</th>\n",
       "      <td>COc1cccc(-c2cc(Oc3c(Cl)cc(CC(=O)O)cc3Cl)ccc2O)c1</td>\n",
       "      <td>CCc1cccc(-c2cc(Oc3c(Cl)cc(CC(=O)O)cc3Cl)ccc2O)c1</td>\n",
       "      <td>-1.358813</td>\n",
       "    </tr>\n",
       "    <tr>\n",
       "      <th>126</th>\n",
       "      <td>CCc1cccc(-c2cc(Oc3c(Cl)cc(CC(=O)O)cc3Cl)ccc2O)c1</td>\n",
       "      <td>O=C(O)Cc1cc(Cl)c(Oc2ccc(O)c(-c3cccc(-c4ccccc4)...</td>\n",
       "      <td>1.546059</td>\n",
       "    </tr>\n",
       "  </tbody>\n",
       "</table>\n",
       "<p>127 rows × 3 columns</p>\n",
       "</div>"
      ],
      "text/plain": [
       "                                              smiles_i  \\\n",
       "0                O=C(O)Cc1cc(Cl)c(Oc2ccc(O)cc2)c(Cl)c1   \n",
       "1                O=C(O)Cc1cc(Cl)c(Oc2ccc(O)cc2)c(Cl)c1   \n",
       "2                O=C(O)Cc1cc(Cl)c(Oc2ccc(O)cc2)c(Cl)c1   \n",
       "3                O=C(O)Cc1cc(Cl)c(Oc2ccc(O)cc2)c(Cl)c1   \n",
       "4                O=C(O)Cc1cc(Cl)c(Oc2ccc(O)cc2)c(Cl)c1   \n",
       "..                                                 ...   \n",
       "122  O=C(O)Cc1cc(Cl)c(Oc2ccc(O)c(-c3ccc(C(F)(F)F)cc...   \n",
       "123  O=C(O)Cc1cc(Cl)c(Oc2ccc(O)c(-c3ccc(C(F)(F)F)cc...   \n",
       "124  O=C(O)Cc1cc(Cl)c(Oc2ccc(O)c(-c3cccc(OC(F)F)c3)...   \n",
       "125   COc1cccc(-c2cc(Oc3c(Cl)cc(CC(=O)O)cc3Cl)ccc2O)c1   \n",
       "126   CCc1cccc(-c2cc(Oc3c(Cl)cc(CC(=O)O)cc3Cl)ccc2O)c1   \n",
       "\n",
       "                                              smiles_j      diff  \n",
       "0            O=C(O)Cc1cc(Cl)c(Oc2ccc(O)c(Br)c2)c(Cl)c1 -1.519479  \n",
       "1              CC(C)c1cc(Oc2c(Cl)cc(C(=O)O)cc2Cl)ccc1O -1.442962  \n",
       "2             CC(C)c1cc(Oc2c(Br)cc(CC(=O)O)cc2Br)ccc1O -3.366574  \n",
       "3             CC(C)c1cc(Oc2c(Cl)cc(CC(=O)O)cc2Cl)ccc1O -2.158965  \n",
       "4     O=C(O)Cc1cc(Cl)c(Oc2ccc(O)c(-c3cncnc3)c2)c(Cl)c1 -1.126911  \n",
       "..                                                 ...       ...  \n",
       "122  O=C(O)Cc1cc(Cl)c(Oc2ccc(O)c(-c3cccc(OC(F)F)c3)... -1.231800  \n",
       "123   CCc1cccc(-c2cc(Oc3c(Cl)cc(CC(=O)O)cc3Cl)ccc2O)c1 -1.597864  \n",
       "124  O=C(O)Cc1cc(Cl)c(Oc2ccc(O)c(-c3cccc(-c4ccccc4)...  1.179995  \n",
       "125   CCc1cccc(-c2cc(Oc3c(Cl)cc(CC(=O)O)cc3Cl)ccc2O)c1 -1.358813  \n",
       "126  O=C(O)Cc1cc(Cl)c(Oc2ccc(O)c(-c3cccc(-c4ccccc4)...  1.546059  \n",
       "\n",
       "[127 rows x 3 columns]"
      ]
     },
     "metadata": {},
     "execution_count": 5
    }
   ],
   "metadata": {}
  },
  {
   "cell_type": "markdown",
   "source": [
    "In the serialised `colors.pt` file we can find ground-truth information for each of the ligands in the `pairs.csv` file. Note that a total of 10 different MCS percentage thresholds were used in the study (from `0.5` to `0.95` in increments of `0.05`). This information can be accessed through the second index of the object. \n",
    "\n",
    "Once a sample_idx and a threshold has been selected, each item in `colors.pt` consists of a tuple of dictionaries, for ligands i and j in `pairs.csv`, respectively. These dictionaries are keyed with their atomic indexes as determined with rdkit's `MolFromSmiles` reader, and their values marking whether each specific atom is part of the MCS (`0.0`), or whether it is colored positively (`1.0`) because it contributes to a increase in activity in the pair, or viceversa (`-1.0`)."
   ],
   "metadata": {}
  },
  {
   "cell_type": "code",
   "execution_count": 6,
   "source": [
    "import dill\n",
    "\n",
    "with open(os.path.join(series_path, \"colors.pt\"), \"rb\") as handle:\n",
    "    colors_true = dill.load(handle)\n",
    "len(colors_true)\n"
   ],
   "outputs": [
    {
     "output_type": "execute_result",
     "data": {
      "text/plain": [
       "127"
      ]
     },
     "metadata": {},
     "execution_count": 6
    }
   ],
   "metadata": {}
  },
  {
   "cell_type": "code",
   "execution_count": 7,
   "source": [
    "idx_mcs_threshold = 0\n",
    "len(colors_true[0])\n"
   ],
   "outputs": [
    {
     "output_type": "execute_result",
     "data": {
      "text/plain": [
       "10"
      ]
     },
     "metadata": {},
     "execution_count": 7
    }
   ],
   "metadata": {}
  },
  {
   "cell_type": "code",
   "execution_count": 8,
   "source": [
    "colors_true[idx][idx_mcs_threshold]\n"
   ],
   "outputs": [
    {
     "output_type": "execute_result",
     "data": {
      "text/plain": [
       "({0: 0.0,\n",
       "  1: 0.0,\n",
       "  2: 0.0,\n",
       "  3: 0.0,\n",
       "  4: 0.0,\n",
       "  5: 0.0,\n",
       "  6: 0.0,\n",
       "  7: 0.0,\n",
       "  8: 0.0,\n",
       "  9: 1.0,\n",
       "  10: 0.0,\n",
       "  11: 0.0,\n",
       "  12: 0.0,\n",
       "  13: 0.0,\n",
       "  14: 0.0,\n",
       "  15: 0.0,\n",
       "  16: 0.0,\n",
       "  17: 0.0,\n",
       "  18: 1.0,\n",
       "  19: 0.0,\n",
       "  20: 0.0,\n",
       "  21: 0.0,\n",
       "  22: 0.0},\n",
       " {0: 0.0,\n",
       "  1: 0.0,\n",
       "  2: 0.0,\n",
       "  3: 0.0,\n",
       "  4: 0.0,\n",
       "  5: 0.0,\n",
       "  6: 0.0,\n",
       "  7: -1.0,\n",
       "  8: 0.0,\n",
       "  9: 0.0,\n",
       "  10: 0.0,\n",
       "  11: 0.0,\n",
       "  12: 0.0,\n",
       "  13: 0.0,\n",
       "  14: 0.0,\n",
       "  15: 0.0,\n",
       "  16: 0.0,\n",
       "  17: 0.0,\n",
       "  18: -1.0,\n",
       "  19: -1.0,\n",
       "  20: -1.0,\n",
       "  21: -1.0,\n",
       "  22: -1.0,\n",
       "  23: -1.0,\n",
       "  24: -1.0,\n",
       "  25: 0.0,\n",
       "  26: 0.0,\n",
       "  27: 0.0,\n",
       "  28: -1.0,\n",
       "  29: 0.0})"
      ]
     },
     "metadata": {},
     "execution_count": 8
    }
   ],
   "metadata": {}
  },
  {
   "cell_type": "markdown",
   "source": [
    "Assuming that the user wants to develop their custom molecular attribution function, exemplified below by the `your_custom_molfa` function, it needs to output a numpy array with an atom importance in the same order as the corresponding rdkit atom iterator. We proceed and compute the toy molecular feature attribution function in the `pairs.csv` file."
   ],
   "metadata": {}
  },
  {
   "cell_type": "code",
   "execution_count": 9,
   "source": [
    "import numpy as np\n",
    "from rdkit.Chem import MolFromSmiles\n",
    "\n",
    "np.random.seed(42)\n",
    "\n",
    "def your_custom_molfa(smiles):\n",
    "    mol = MolFromSmiles(smiles)\n",
    "    return np.random.uniform(\n",
    "        low=-1, high=1, size=mol.GetNumAtoms()\n",
    "    )  # random assignment\n",
    "\n",
    "\n",
    "your_custom_molfa(pairs_df[\"smiles_i\"][0])\n"
   ],
   "outputs": [
    {
     "output_type": "execute_result",
     "data": {
      "text/plain": [
       "array([-0.25091976,  0.90142861,  0.46398788,  0.19731697, -0.68796272,\n",
       "       -0.68801096, -0.88383278,  0.73235229,  0.20223002,  0.41614516,\n",
       "       -0.95883101,  0.9398197 ,  0.66488528, -0.57532178, -0.63635007,\n",
       "       -0.63319098, -0.39151551,  0.04951286, -0.13610996, -0.41754172])"
      ]
     },
     "metadata": {},
     "execution_count": 9
    }
   ],
   "metadata": {}
  },
  {
   "cell_type": "code",
   "execution_count": 10,
   "source": [
    "colors_pred = [\n",
    "    (your_custom_molfa(sm_i), your_custom_molfa(sm_j))\n",
    "    for sm_i, sm_j in zip(pairs_df[\"smiles_i\"], pairs_df[\"smiles_j\"])\n",
    "]\n",
    "\n"
   ],
   "outputs": [],
   "metadata": {}
  },
  {
   "cell_type": "code",
   "execution_count": 11,
   "source": [
    "colors_pred[0]\n"
   ],
   "outputs": [
    {
     "output_type": "execute_result",
     "data": {
      "text/plain": [
       "(array([ 0.22370579, -0.72101228, -0.4157107 , -0.26727631, -0.08786003,\n",
       "         0.57035192, -0.60065244,  0.02846888,  0.18482914, -0.90709917,\n",
       "         0.2150897 , -0.65895175, -0.86989681,  0.89777107,  0.93126407,\n",
       "         0.6167947 , -0.39077246, -0.80465577,  0.36846605, -0.11969501]),\n",
       " array([-0.75592353, -0.00964618, -0.93122296,  0.8186408 , -0.48244004,\n",
       "         0.32504457, -0.37657785,  0.04013604,  0.09342056, -0.63029109,\n",
       "         0.93916926,  0.55026565,  0.87899788,  0.7896547 ,  0.19579996,\n",
       "         0.84374847, -0.823015  , -0.60803428, -0.90954542, -0.34933934,\n",
       "        -0.22264542]))"
      ]
     },
     "metadata": {},
     "execution_count": 11
    }
   ],
   "metadata": {}
  },
  {
   "cell_type": "markdown",
   "source": [
    "The analysis functions that were used in the manuscript are available under the `score` module.\n",
    "\n",
    "* `color_agreement` computes a separate atom-level color agreement metric on for each molecule of the pair (Figure 4).\n",
    "* `aggregated_color_direction` checks whether the average non-MCS atomic contributions of each molecule in the pair agrees with the direction of the activity difference sign (Figure 5)."
   ],
   "metadata": {}
  },
  {
   "cell_type": "code",
   "execution_count": 12,
   "source": [
    "from xaibench.score import color_agreement, aggregated_color_direction\n",
    "from sklearn.metrics import accuracy_score, f1_score\n",
    "f_score = lambda x, y: f1_score(x, y, zero_division=1)\n",
    "\n",
    "\n",
    "acc_scores_i = [color_agreement(colors_true[idx][idx_mcs_threshold][0], colors_pred[idx][0], accuracy_score) for idx in range(len(pairs_df))]\n",
    "acc_scores_j = [color_agreement(colors_true[idx][idx_mcs_threshold][1], colors_pred[idx][1], accuracy_score) for idx in range(len(pairs_df))]\n",
    "acc_scores = acc_scores_i + acc_scores_j\n",
    "\n",
    "f1_scores_i = [color_agreement(colors_true[idx][idx_mcs_threshold][0], colors_pred[idx][0], f_score) for idx in range(len(pairs_df))]\n",
    "f1_scores_j = [color_agreement(colors_true[idx][idx_mcs_threshold][1], colors_pred[idx][1], f_score) for idx in range(len(pairs_df))]\n",
    "f1_scores = f1_scores_i + f1_scores_j"
   ],
   "outputs": [
    {
     "output_type": "stream",
     "name": "stdout",
     "text": [
      "rdkit detected? True\n"
     ]
    }
   ],
   "metadata": {}
  },
  {
   "cell_type": "markdown",
   "source": [
    "Some caution needs to be taken when using the `color_agreement` function, as it will output `-1.0` in cases where all the assigned ground truth atomic values have a value of `0.0`, which corresponds to the case where one the molecules in the pair is a substructure of the other. Therefore these values need to be filtered out before any final metric can be computed."
   ],
   "metadata": {}
  },
  {
   "cell_type": "code",
   "execution_count": 13,
   "source": [
    "acc_scores = np.array(acc_scores)\n",
    "acc_scores = acc_scores[acc_scores >= 0.0]\n",
    "\n",
    "f1_scores = np.array(f1_scores)\n",
    "f1_scores = f1_scores[f1_scores >= 0.0]\n",
    "\n",
    "print(np.mean(acc_scores), np.mean(f1_scores))"
   ],
   "outputs": [
    {
     "output_type": "stream",
     "name": "stdout",
     "text": [
      "0.4448728354978355 0.3477144259510331\n"
     ]
    }
   ],
   "metadata": {}
  },
  {
   "cell_type": "code",
   "execution_count": 14,
   "source": [
    "agg_direction_scores = [\n",
    "    aggregated_color_direction(\n",
    "        colors_pred[idx][0],\n",
    "        colors_pred[idx][1],\n",
    "        colors_true[idx][idx_mcs_threshold][0],\n",
    "        colors_true[idx][idx_mcs_threshold][1],\n",
    "        pairs_df[\"diff\"][idx],\n",
    "    )\n",
    "    for idx in range(len(pairs_df))\n",
    "]\n",
    "\n",
    "print(np.mean(agg_direction_scores))"
   ],
   "outputs": [
    {
     "output_type": "stream",
     "name": "stdout",
     "text": [
      "0.4251968503937008\n"
     ]
    }
   ],
   "metadata": {}
  }
 ],
 "metadata": {
  "orig_nbformat": 4,
  "language_info": {
   "name": "python",
   "version": "3.7.10",
   "mimetype": "text/x-python",
   "codemirror_mode": {
    "name": "ipython",
    "version": 3
   },
   "pygments_lexer": "ipython3",
   "nbconvert_exporter": "python",
   "file_extension": ".py"
  },
  "kernelspec": {
   "name": "python3",
   "display_name": "Python 3.7.10 64-bit ('xaibench_tf': conda)"
  },
  "interpreter": {
   "hash": "0a54878ae54eb7b15455285fa4ed1f35c81237d60e683e02dbde7b2f8b800d16"
  }
 },
 "nbformat": 4,
 "nbformat_minor": 2
}